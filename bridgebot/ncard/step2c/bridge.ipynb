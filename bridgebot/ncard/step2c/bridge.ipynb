{
 "cells": [
  {
   "cell_type": "markdown",
   "id": "3c0bda9c-719c-4bb9-88c2-ad4b79025efd",
   "metadata": {},
   "source": [
    "* GPT prompt for [base game](//bridgebot/ncard:game.py) graph navigation\n",
    "    * later: add incrementally to [REASON]\n",
    "* base game insufficent. why:\n",
    "    * needs (tricks inequality operator).\n",
    "        * e.g., if(...) then(declarer makes contract)\n",
    "    * needs (relations between deals).\n",
    "        * e.g., if (west has HQ) then(...)\n",
    "* [REASON] definition:\n",
    "    * formal bridge logic language\n",
    "    * likely written in [lean](google:leanprover).\n",
    "    * almost entirely TODO.\n",
    "    * prior attempts:\n",
    "        * `bridgebot/reason/`\n",
    "        * `ncard/games.reason`\n",
    "* TODO:\n",
    "    * summarize {,meta-}state in NL format understood by GPT\n",
    "        * max 8000 tokens\n",
    "    * parse GPT response to get next {,meta}-action.\n",
    "    * {AlphaGo,AlphaZero,MuZero}-style {,meta-}game tree explore.\n",
    "    * repeat until satisfied or budget exhausted."
   ]
  },
  {
   "cell_type": "markdown",
   "id": "075565ef-bec5-4117-a8a5-9afd79897e0a",
   "metadata": {},
   "source": [
    "* case study:\n",
    "    * bridgemaster level 5 A-4\n",
    "    * 1. follow. (4x)\n",
    "    * 2. `give_cards` east DK Hxx, west Hxx.\n",
    "    * 3. play Sx, SA, Dx, DQ\n",
    "    * 3a. play Dx, Dx.\n",
    "    * 3a1. if E returns H, then: HA, Hx; Sx, SA; Dx, DQ; HK, Hx; Sx, SK; Dx, DA; Dx\n",
    "    * 4. give ...\n",
    "    * 3b. play (HK, Hx) before (Dx, Dx)\n",
    "    * satisfied?\n",
    "    "
   ]
  }
 ],
 "metadata": {
  "kernelspec": {
   "display_name": "Python 3 (ipykernel)",
   "language": "python",
   "name": "python3"
  },
  "language_info": {
   "codemirror_mode": {
    "name": "ipython",
    "version": 3
   },
   "file_extension": ".py",
   "mimetype": "text/x-python",
   "name": "python",
   "nbconvert_exporter": "python",
   "pygments_lexer": "ipython3",
   "version": "3.9.13"
  }
 },
 "nbformat": 4,
 "nbformat_minor": 5
}
