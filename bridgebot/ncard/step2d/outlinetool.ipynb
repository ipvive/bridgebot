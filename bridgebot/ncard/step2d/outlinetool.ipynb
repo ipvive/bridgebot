{
 "cells": [
  {
   "cell_type": "code",
   "execution_count": 3,
   "id": "00d2fb1c-4594-45a3-97e8-501e4624b435",
   "metadata": {
    "tags": []
   },
   "outputs": [],
   "source": [
    "#!pip3 install ipywidgets"
   ]
  },
  {
   "cell_type": "code",
   "execution_count": 2,
   "id": "0a24088b-e521-4ca5-a2ee-9f76a45ca431",
   "metadata": {
    "tags": []
   },
   "outputs": [
    {
     "data": {
      "application/vnd.jupyter.widget-view+json": {
       "model_id": "a3c26ef1e1664baf8206483469ab76b8",
       "version_major": 2,
       "version_minor": 0
      },
      "text/plain": [
       "FloatSlider(value=0.0)"
      ]
     },
     "metadata": {},
     "output_type": "display_data"
    }
   ],
   "source": [
    "from ipywidgets import FloatSlider\n",
    "from IPython.display import display\n",
    "slider = FloatSlider()\n",
    "display(slider)\n"
   ]
  },
  {
   "cell_type": "markdown",
   "id": "54dbaeae-8cb1-4cad-881a-84d6a305f77e",
   "metadata": {},
   "source": [
    "* The idea is to start with displaying an outline as a tree embedded in the hyperbolic plane.\n",
    "* The nodes are embedded as regular(?) ideal polygons (N-gons, where N = valence)\n",
    "    * nodes with one child are bounded by hypercycles\n",
    "    * leaves are half-planes\n",
    "* The display is the Poincare disc model.\n",
    "* Outline text, if too large to fit, is drawn outside the disc, and connected with a Euclidean line.\n",
    "* Tutorial found at [search:webgl pick](https://webglfundamentals.org/webgl/lessons/webgl-picking.html)"
   ]
  }
 ],
 "metadata": {
  "kernelspec": {
   "display_name": "Python 3 (ipykernel)",
   "language": "python",
   "name": "python3"
  },
  "language_info": {
   "codemirror_mode": {
    "name": "ipython",
    "version": 3
   },
   "file_extension": ".py",
   "mimetype": "text/x-python",
   "name": "python",
   "nbconvert_exporter": "python",
   "pygments_lexer": "ipython3",
   "version": "3.9.13"
  }
 },
 "nbformat": 4,
 "nbformat_minor": 5
}
