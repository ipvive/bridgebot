{
 "cells": [
  {
   "cell_type": "markdown",
   "id": "03409f97-a1d1-451f-8ae1-0485c58489fe",
   "metadata": {},
   "source": [
    "* hazy about goals.\n",
    "* plan (njt):\n",
    "    * review `step2{,a,b,c}`\n",
    "    * take notes about related bits\n",
    "    * render notes using `step2c/outlines.py"
   ]
  }
 ],
 "metadata": {
  "kernelspec": {
   "display_name": "Python 3 (ipykernel)",
   "language": "python",
   "name": "python3"
  },
  "language_info": {
   "codemirror_mode": {
    "name": "ipython",
    "version": 3
   },
   "file_extension": ".py",
   "mimetype": "text/x-python",
   "name": "python",
   "nbconvert_exporter": "python",
   "pygments_lexer": "ipython3",
   "version": "3.9.13"
  }
 },
 "nbformat": 4,
 "nbformat_minor": 5
}
