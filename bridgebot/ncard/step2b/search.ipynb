{
 "cells": [
  {
   "cell_type": "markdown",
   "id": "57be8059-a77d-4e54-a595-d76f87cf7ba2",
   "metadata": {},
   "source": [
    "* [keyword search](//search:keyword/search)\n"
   ]
  },
  {
   "cell_type": "code",
   "execution_count": null,
   "id": "269298ea-1df9-4ec3-81e7-6cd9d5565ae2",
   "metadata": {},
   "outputs": [],
   "source": []
  }
 ],
 "metadata": {
  "kernelspec": {
   "display_name": "Python 3 (ipykernel)",
   "language": "python",
   "name": "python3"
  },
  "language_info": {
   "codemirror_mode": {
    "name": "ipython",
    "version": 3
   },
   "file_extension": ".py",
   "mimetype": "text/x-python",
   "name": "python",
   "nbconvert_exporter": "python",
   "pygments_lexer": "ipython3",
   "version": "3.9.13"
  }
 },
 "nbformat": 4,
 "nbformat_minor": 5
}
