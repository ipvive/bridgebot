{
 "cells": [
  {
   "cell_type": "markdown",
   "id": "a2bae632-cdd0-4c63-bab6-4051c254c02b",
   "metadata": {},
   "source": [
    "###Explicit Graph.\n",
    "* Summary: Good Enough."
   ]
  },
  {
   "cell_type": "code",
   "execution_count": 1,
   "id": "f9febb98-6b32-4d15-9e0b-14ca92463f69",
   "metadata": {
    "tags": []
   },
   "outputs": [],
   "source": [
    "type Key string\n",
    "\n",
    "type Relation struct {\n",
    "    S Key\n",
    "    P Key\n",
    "    O Key\n",
    "}\n",
    "\n",
    "type Blob []byte\n",
    "\n",
    "type Includes map[string]string // TODO: Choose better name.\n",
    "\n",
    "//type Node struct {\n",
    "//    B Blob\n",
    "//    Sub Graph\n",
    "//}\n",
    "\n",
    "type Graph struct {\n",
    "    I Includes\n",
    "    V map[Key] Blob // Node\n",
    "    E []Relation\n",
    "}"
   ]
  },
  {
   "cell_type": "code",
   "execution_count": 2,
   "id": "b5481ecb-840c-4dad-b96b-2d23d5a089cc",
   "metadata": {
    "tags": []
   },
   "outputs": [
    {
     "ename": "ERROR",
     "evalue": "reflect: call of reflect.Value.Type on zero Value",
     "output_type": "error",
     "traceback": [
      "reflect: call of reflect.Value.Type on zero Value"
     ]
    }
   ],
   "source": [
    "Graph{\n",
    "    V:{\n",
    "        \"/\":Node{\n",
    "            B:\"he wants food.\\nare we sure?\",\n",
    "            Sub:Graph{E:{{\"C1\", \"some POS\", \"Q\"}}},\n",
    "        },\n",
    "        \"C1\":Node{Sub:Graph{E:{{\"he\",\"wants\",\"food\"}}}},\n",
    "        \"C2\":Node{Sub:Graph{E:{{\"we\", \"are\", \"sure\"}}}},\n",
    "    },\n",
    "    E:{{\"Q\",\"?\",\"C2\"}},\n",
    "}"
   ]
  },
  {
   "cell_type": "markdown",
   "id": "d8ede408-ea5c-485a-92aa-8fcc80038097",
   "metadata": {},
   "source": [
    "* `reflect: call of reflect.Value.Type on zero Value` seems like BUG.\n",
    "    * different + more errors from `go2.20.3 foo.go`\n",
    "* json > native go.\n",
    "* Sub Graph -> R Relation ?-> relational repr\n",
    "* user story test cases 1st?"
   ]
  },
  {
   "cell_type": "code",
   "execution_count": null,
   "id": "e2448509-1874-4aa3-936b-6fd90a4cb28b",
   "metadata": {},
   "outputs": [],
   "source": [
    "metaEdgeJSON = \"\"\"\n",
    "{\n",
    "    \"I\": {\n",
    "        \"G\": \"https://ipvive.com/kg/meta/\",\n",
    "        \"S1: \"//localkg/scope/n/1/\"\n",
    "    }\n",
    "    \"E\": {\n",
    "        {\"S\": \"S1:R1\", \"P\": \"G:S\", \"O\": \"S1:SPAN1\"},\n",
    "        {\"S\": \"S1:R1\", \"P\": \"G:P\", \"O\": \"S1:POS1\"},\n",
    "        {\"S\": \"S1:R1\", \"P\": \"G:O\", \"O\": \"S1:SPAN2\"},\n",
    "        {\"S\": \"S1:SPAN1\", \"P\": \"S1:POS1\", \"O\": \"S1:SPAN2\"}\n",
    "    }\n",
    "}"
   ]
  }
 ],
 "metadata": {
  "kernelspec": {
   "display_name": "Go",
   "language": "go",
   "name": "gophernotes"
  },
  "language_info": {
   "codemirror_mode": "",
   "file_extension": ".go",
   "mimetype": "",
   "name": "go",
   "nbconvert_exporter": "",
   "pygments_lexer": "",
   "version": "go1.18.1"
  }
 },
 "nbformat": 4,
 "nbformat_minor": 5
}
